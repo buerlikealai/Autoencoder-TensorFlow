{
 "cells": [
  {
   "cell_type": "markdown",
   "metadata": {},
   "source": [
    "# Implementation of an autoencoder in TensorFlow\n",
    "---\n",
    "\n",
    "__This page can be downloaded as__ [interactive jupyter notebook](./Autoencoder.ipynb).\n",
    "\n",
    "---\n",
    "This notebook deals with the concept of using an Autoencoder for compression and reconstruction of images. Furthermore, this tutorial is an introduction to the basic concepts of the Deep Learning Framework __TensorFlow__. The tutorial consists of 3 parts:\n",
    "1. What is an Autoencoder? \n",
    "2. Implementation of an Autoencoder for image compression.\n",
    "3. Analysis of several hyper-parameters of the model and their influence."
   ]
  },
  {
   "attachments": {
    "AE-concept.png": {
     "image/png": "[encoded data removed]"
    }
   },
   "cell_type": "markdown",
   "metadata": {},
   "source": [
    "## Part 1: What is an Autoencoder?\n",
    "Autoencoder denotes a specific group of models that learn a mapping from any input to the input itself. The main concept is to have a $\\color{green}{\\text{Latent Layer}}$ bottleneck along the network, where the input is forced to be represented in a lower dimensional space. The part of the network that maps the input to the lower-dimensional latent representation is usually called $\\color{green}{\\text{Encoder}}$ while the $\\color{green}{\\text{Decoder}}$ denotes the part of the network, that recreates the input based on the latent representation.\n",
    "![AE-concept.png](attachment:AE-concept.png)\n",
    "Any autoencoder is trained by minimizing the $\\color{green}{\\text{Reconstruction Loss }}$ which is used to measure how close the output is to the input. Thus, the training does not require any labels, which makes the training unsupervised.\n",
    "\n",
    "The design of an autoencoder architecture strongly depends on its purpose. Besides the autoencoders, which are used to create low-dimensional representations (e.g. for data compression) there are autoencoders for denoising, anomaly detection, image-colorization and many more. In this tutorial, we give an example of a simple stacked (multi-layer) autoencoder which is used to reconstruct an image. "
   ]
  },
  {
   "cell_type": "markdown",
   "metadata": {},
   "source": [
    "## Part 2: Implementation of an autoencoder for image compression\n",
    "In this part, we will show how a stacked autoencoder can be used to compress and reconstruct images (here from the MNIST dataset). The implementation is based on TensorFlow. The main steps to build a stacked autoencoder are:\n",
    "1. Image Preprocessing\n",
    "2. Building a TensorFlow data pipeline\n",
    "3. Define the model (graph)\n",
    "4. Train the model (session)\n",
    "5. Validation of the model\n",
    "6. Evaluate the model\n",
    "7. Analysis on compression ratio"
   ]
  },
  {
   "cell_type": "markdown",
   "metadata": {},
   "source": [
    "### Part 2.1 Image Preprocessing\n",
    "For the image preprocessing part, we import numpy and Tensorflow, and as well as the MNISt dataset first. MNIST is a labeled set of images of handwritten digits. "
   ]
  },
  {
   "cell_type": "markdown",
   "metadata": {},
   "source": [
    "#### Downloading the data\n",
    "\n",
    "The code below is used to download the MNIST dataset (Code borrowed from a Tensorflow tutorial)\n"
   ]
  },
  {
   "cell_type": "code",
   "execution_count": 22,
   "metadata": {},
   "outputs": [
    {
     "name": "stdout",
     "output_type": "stream",
     "text": [
      "Already downloaded train-images-idx3-ubyte.gz\n",
      "Already downloaded train-labels-idx1-ubyte.gz\n",
      "Already downloaded t10k-images-idx3-ubyte.gz\n",
      "Already downloaded t10k-labels-idx1-ubyte.gz\n"
     ]
    }
   ],
   "source": [
    "import os\n",
    "from six.moves.urllib.request import urlretrieve\n",
    "\n",
    "SOURCE_URL = 'https://storage.googleapis.com/cvdf-datasets/mnist/'\n",
    "WORK_DIRECTORY = \"/tmp/mnist-data\"\n",
    "\n",
    "def maybe_download(filename):\n",
    "    \"\"\"A helper to download the data files if not present.\"\"\"\n",
    "    if not os.path.exists(WORK_DIRECTORY):\n",
    "        os.mkdir(WORK_DIRECTORY)\n",
    "    filepath = os.path.join(WORK_DIRECTORY, filename)\n",
    "    if not os.path.exists(filepath):\n",
    "        filepath, _ = urlretrieve(SOURCE_URL + filename, filepath)\n",
    "        statinfo = os.stat(filepath)\n",
    "        print('Successfully downloaded', filename, statinfo.st_size, 'bytes.')\n",
    "    else:\n",
    "        print('Already downloaded', filename)\n",
    "    return filepath\n",
    "\n",
    "train_data_filename = maybe_download('train-images-idx3-ubyte.gz')\n",
    "train_labels_filename = maybe_download('train-labels-idx1-ubyte.gz')\n",
    "test_data_filename = maybe_download('t10k-images-idx3-ubyte.gz')\n",
    "test_labels_filename = maybe_download('t10k-labels-idx1-ubyte.gz')"
   ]
  },
  {
   "cell_type": "markdown",
   "metadata": {},
   "source": [
    "#### Data normalization \n",
    "\n",
    "Up to now, we have the files. Since the data is zipped, it needs to be decompressed. Then, we would have training and testing dataset. One part of training dataset will be used as validation dataset. Also, each of the images are encoded with in the gray value range from [0,255] and have a size of 28 x 28 pixels. Before feeding them into the network, we want to normalize the pixel values to a range of [0,1]. "
   ]
  },
  {
   "cell_type": "code",
   "execution_count": 23,
   "metadata": {},
   "outputs": [
    {
     "name": "stdout",
     "output_type": "stream",
     "text": [
      "Extracting /tmp/mnist-data/train-images-idx3-ubyte.gz\n",
      "Extracting /tmp/mnist-data/t10k-images-idx3-ubyte.gz\n",
      "Training data shape (55000, 784)\n",
      "Validation data shape (5000, 784)\n",
      "Test data shape (10000, 784)\n"
     ]
    },
    {
     "data": {
      "text/plain": [
       "<matplotlib.image.AxesImage at 0x7f9db52214a8>"
      ]
     },
     "execution_count": 23,
     "metadata": {},
     "output_type": "execute_result"
    },
    {
     "data": {
      "image/png": "[encoded data removed]",
      "text/plain": [
       "<Figure size 432x288 with 2 Axes>"
      ]
     },
     "metadata": {},
     "output_type": "display_data"
    }
   ],
   "source": [
    "IMAGE_SIZE = 28\n",
    "PIXEL_DEPTH = 255\n",
    "\n",
    "import gzip, binascii, struct, numpy\n",
    "import matplotlib.pyplot as plt\n",
    "\n",
    "def extract_data(filename, num_images):\n",
    "    \"\"\" Extract the images into a 3D tensor [image index, y, x]. \"\"\"\n",
    "    print('Extracting', filename)\n",
    "    with gzip.open(filename) as bytestream:\n",
    "        \"\"\" Skip the magic number and dimensions; we know these values.\"\"\"\n",
    "        bytestream.read(16)\n",
    "\n",
    "        buf = bytestream.read(IMAGE_SIZE * IMAGE_SIZE * num_images)\n",
    "        data = numpy.frombuffer(buf, dtype=numpy.uint8).astype(numpy.float32)\n",
    "        data = data / PIXEL_DEPTH\n",
    "        data = data.reshape(num_images, IMAGE_SIZE*IMAGE_SIZE)\n",
    "        return data\n",
    "\n",
    "validation_size = 5000\n",
    "\n",
    "Data = extract_data(train_data_filename, 60000)\n",
    "train_data = Data[validation_size:, :]\n",
    "validation_data = Data[:validation_size, :]\n",
    "test_data = extract_data(test_data_filename, 10000)\n",
    "\n",
    "print('Training data shape', train_data.shape)\n",
    "print('Validation data shape',validation_data.shape)\n",
    "print('Test data shape',test_data.shape)\n",
    "\n",
    "_, (ax1, ax2) = plt.subplots(1, 2)\n",
    "ax1.imshow(train_data[0].reshape(28, 28), cmap=plt.cm.Greys)\n",
    "ax2.imshow(train_data[1].reshape(28, 28), cmap=plt.cm.Greys)"
   ]
  },
  {
   "cell_type": "markdown",
   "metadata": {},
   "source": [
    "### Part 2.2 Building a TensorFlow data pipeline\n",
    "\n",
    "Now the data is ready to be used. Next, we start to use TensorFlow. In TensorFlow, all the computations are based on tensors. A tensor, represents data like arrays or (multidimensional) matrice. The next step is to think about how should we feed this huge amount of data into the computation. Obviously, we can't apply this feeding process of the data once and all. \n",
    "The idea is to create a $\\color{green}{\\text{placeholder}}$ which is one type of tensor that acts as data input for the model. \n",
    "After creating a placeholder, the next step is to feed a placeholder with actual data, which will iterate over the dataset in each training iteration. \n",
    "In TensorFlow, this is implemented via the $\\color{green}{\\text{Dataset class}}$ which populates the value of the placeholder during training and inference. \n",
    "As mentioned, the ingoing data to the placeholder must change every time to make sure that we feed all the dataset one after one. And, this flowing of data one after one is realized by $\\color{green}{\\text{pipeline}}$ with an $\\color{green}{\\text{iterator}}$. \n",
    "\n",
    "We will walk through this part and explain in more details by showing the code for \n",
    "\n",
    "- creating the placeholder\n",
    "- using the dataset class\n",
    "- creating the pipeline"
   ]
  },
  {
   "cell_type": "markdown",
   "metadata": {},
   "source": [
    "**create the placeholder**"
   ]
  },
  {
   "cell_type": "code",
   "execution_count": 24,
   "metadata": {},
   "outputs": [],
   "source": [
    "import numpy as np\n",
    "import tensorflow as tf\n",
    "\n",
    "\"\"\" Below code prevents: Kernel restarting error\"\"\"\n",
    "\n",
    "config = tf.ConfigProto()\n",
    "config.gpu_options.allow_growth = True\n",
    "\n",
    "size_inputs = 28*28 # number of pixels of a mnist image\n",
    "\n",
    "\"\"\" using a placeholder for BATCH_SIZE which is no.of images feed with the pipeline in each iteration\"\"\"\n",
    "\n",
    "batch_size = tf.placeholder(tf.int64)\n",
    "\n",
    "\"\"\" using a placeholder for dataset, the input image \"\"\"\n",
    "\n",
    "x = tf.placeholder(tf.float32,shape = [None, size_inputs])"
   ]
  },
  {
   "cell_type": "markdown",
   "metadata": {},
   "source": [
    "#### using the dataset class\n",
    "\n",
    "The TF class ``Dataset`` implements the iteration over the used training samples, cares about data shuffling as well as batch creation. The function `tf.data.Dataset.from_tensor_slices` is used to create a `tf.data.Dataset` object which represents slices of our data. The data is sliced across its first dimension. In our case the input data is a stacked matrix of all the MNIST training set images. This matrix has a shape of (60000,28,28). The function `from_tensor_slices()` generates a Dataset object which contains 60000 slices in total, each one corresponding to a 28 x 28 image. The second function `tf.Dataset.repeat(count=None)` will create a indefinitely loop over this data. The function `tf.data.Dataset.batch` selects a number of slices and stacks them to build batches. If the batch_size is 94, then the size of each batch is (94,28,28,1). The last dimensions corresponds to the channels per image (which is 1 in our case). "
   ]
  },
  {
   "cell_type": "code",
   "execution_count": 25,
   "metadata": {},
   "outputs": [],
   "source": [
    "\"\"\" This results in a Dataset containing 3D arrays representing stacks of (28,28) images: \"\"\"\n",
    "\n",
    "dataset = tf.data.Dataset.from_tensor_slices(x).repeat().batch(batch_size)"
   ]
  },
  {
   "cell_type": "markdown",
   "metadata": {},
   "source": [
    "#### create the pipeline\n",
    "\n",
    "Lastly, we have to initialize an iterable tensor. Running the tensor `features` in a session will deliver a batch instance."
   ]
  },
  {
   "cell_type": "code",
   "execution_count": 26,
   "metadata": {},
   "outputs": [],
   "source": [
    "iterator = dataset.make_initializable_iterator()\n",
    "features = iterator.get_next()"
   ]
  },
  {
   "cell_type": "markdown",
   "metadata": {},
   "source": [
    "### Part 2.3 Define the mode (graph)\n",
    "Up to now, we have the input and the pipeline for feeding the network with batches of the data. The next step is to implement the stacked autoencoder. As introduced before, an autoencoder has multiple hidden layers. After input is $\\color{green}{\\text{top hidden layer 1}}$,then $\\color{green}{\\text{middle layer 2 }}$and  $\\color{green}{\\text{top hidden layer 3}}$ before output. Encoding happens at the process from top hidden layer 1 to middle layer 2. Decoding refers to the process between middle layer 2 to the top hidden layer 3. This part contains follow two steps:\n",
    "<br> **define the parameters**\n",
    "<br> **define the model**"
   ]
  },
  {
   "cell_type": "markdown",
   "metadata": {},
   "source": [
    "**define the parameters**\n",
    "\n",
    "Like in any other deep learning model the autoencoder requires the number of neurons for each layer in advance. The number of neurons (and number of hidden layers) will affect the capacity of the network. Higher capacity means, that more complex mappings (or here: representations)can be learned, but higher capacity also increases the chance of overfitting and requires more data to be trained. "
   ]
  },
  {
   "cell_type": "code",
   "execution_count": 27,
   "metadata": {},
   "outputs": [],
   "source": [
    "size_hidden_1 = 10000 \n",
    "\n",
    "# this is the bottleneck. \n",
    "# In order to achieve a compression, the number\n",
    "# of neurons must be smaller then the number of pixels\n",
    "size_hidden_2 = 100 \n",
    "\n",
    "size_hidden_3 = size_hidden_1\n",
    "size_outputs = size_inputs "
   ]
  },
  {
   "cell_type": "markdown",
   "metadata": {},
   "source": [
    "**define the model**\n",
    "\n",
    "In TensorFlow all the methods we need to use for certain operations, are predefined. This phase in TensorFlow is called building of graph. Next, we will go through all the required methods in a deep learning model. Autoencoder needs a method to initialize the network with weights that will be updated during the training. The technique used here is Xavier Initialization which is Gaussian distribution having zero mean and some finite variances. "
   ]
  },
  {
   "cell_type": "code",
   "execution_count": 28,
   "metadata": {},
   "outputs": [],
   "source": [
    "\"\"\" tf.contrib.layers.xavier_initializer(uniform=True, seed=None, dtype=tf.dtypes.float32) \"\"\"\n",
    "xav_init = tf.contrib.layers.xavier_initializer()"
   ]
  },
  {
   "cell_type": "markdown",
   "metadata": {},
   "source": [
    "Activation function is the method being used to transform the summed weighted input at each neuron. Having a non-linear activation function will enable the model to learn non-linear mappings. "
   ]
  },
  {
   "cell_type": "code",
   "execution_count": 29,
   "metadata": {},
   "outputs": [],
   "source": [
    "\"\"\" tf.nn.elu(features,name=None) \"\"\"\n",
    "activ_func = tf.nn.elu"
   ]
  },
  {
   "cell_type": "markdown",
   "metadata": {},
   "source": [
    "Another method we want to show, is the regularization in order to reduce overfitting. What applied here is L2 regularization, it has an effect of holding the parameters close to zero. Normally, it's applied if overfitting is detected via observing the trend of the loss of training and validation. To show this, we won't use regularization at first, but show in the next cell how it could be implemented."
   ]
  },
  {
   "cell_type": "code",
   "execution_count": 30,
   "metadata": {},
   "outputs": [
    {
     "name": "stdout",
     "output_type": "stream",
     "text": [
      "INFO:tensorflow:Scale of 0 disables regularizer.\n"
     ]
    }
   ],
   "source": [
    "\"\"\" tf.contrib.layers.l2_regularizer(scale,scope=None) \"\"\"\n",
    "\n",
    "L2_reg = 0.0000\n",
    "L2_regularizer = tf.contrib.layers.l2_regularizer(L2_reg)"
   ]
  },
  {
   "cell_type": "markdown",
   "metadata": {},
   "source": [
    "The next step is to create dense layers. Since, we have some shared and some changing parameters of the dense layers, we can nicely make use of the `partial from functools module` concept which is for higher-order functions that act on or return other functions. The `tf.layers.dense` is the function we want to use as `partial.func`. Declaring some `partial.args` as default values for `tf.layers.dense` will return a modified version of that function. "
   ]
  },
  {
   "cell_type": "code",
   "execution_count": 31,
   "metadata": {},
   "outputs": [],
   "source": [
    "from functools import partial\n",
    "\"\"\"\n",
    "tf.layers.dense(inputs,units,activation=None,use_bias=True,kernel_initializer=None,\n",
    "                bias_initializer=tf.zeros_initializer(),kernel_regularizer=None,\n",
    "                bias_regularizer=None, activity_regularizer=None,\n",
    "                kernel_constraint=None, bias_constraint=None,\n",
    "                trainable=True, name=None, reuse=None)\n",
    "\"\"\"\n",
    "dense_layer = partial(tf.layers.dense, activation=activ_func, \n",
    "                      kernel_initializer=xav_init, kernel_regularizer=L2_regularizer)"
   ]
  },
  {
   "cell_type": "markdown",
   "metadata": {},
   "source": [
    "As introduced in the very beginning, there are three hidden layers between input and outputs layer. In the next cell, we use our `dense_layer` functions to build the model. Note that the input to the first layer is the `placeholder` we defined before. Also note, that the last layer has no activation function. Since we want to predict values in a range from [0,1] we could use a sigmoid function here. However, practically it doesn't result in a visible difference."
   ]
  },
  {
   "cell_type": "code",
   "execution_count": 32,
   "metadata": {},
   "outputs": [],
   "source": [
    "hidden_layer_1 = dense_layer(features, size_hidden_1)\n",
    "hidden_layer_2 = dense_layer(hidden_layer_1, size_hidden_2)\n",
    "hidden_layer_3 = dense_layer(hidden_layer_2, size_hidden_3)\n",
    "outputs = dense_layer(hidden_layer_3, size_outputs, activation=None)"
   ]
  },
  {
   "cell_type": "markdown",
   "metadata": {},
   "source": [
    "The last method, we need in neural network, is the optimization of the loss function. Firstly, the loss is being calculated. In our case the loss is defined as the mean squared error between input and reconstruction. Then, Adam optimizer, defined in `tf.train`, is chosen as optimizer to compute and apply the gradients. "
   ]
  },
  {
   "cell_type": "code",
   "execution_count": 33,
   "metadata": {},
   "outputs": [],
   "source": [
    "# computing the loss\n",
    "\"\"\"outputs here are the output of last layer, features are each batch of data fed by iterator\"\"\"\n",
    "loss = tf.reduce_mean(tf.square(outputs-features))\n",
    "\n",
    "# the model\n",
    "\"\"\" \n",
    "- for tf.train.AdamOptimizer\n",
    "__init__(\n",
    "    learning_rate=0.001,\n",
    "    beta1=0.9,\n",
    "    beta2=0.999,\n",
    "    epsilon=1e-08,\n",
    "    use_locking=False,\n",
    "    name='Adam'\n",
    ")\n",
    "\n",
    "- minimize(\n",
    "    loss,\n",
    "    global_step=None,\n",
    "    var_list=None,\n",
    "    gate_gradients=GATE_OP,\n",
    "    aggregation_method=None,\n",
    "    colocate_gradients_with_ops=False,\n",
    "    name=None,\n",
    "    grad_loss=None\n",
    ")\n",
    "\"\"\"\n",
    "\n",
    "learning_rate = 0.000012 # for case of having 100 neurons in latent layer and 10000 neurons in other layers\n",
    "train = tf.train.AdamOptimizer(learning_rate).minimize(loss)"
   ]
  },
  {
   "cell_type": "markdown",
   "metadata": {},
   "source": [
    "### Part 2.4 Train the model (session)\n",
    "So far, we built a computational graph that can produce batches of data, propagate them to the network, compute the loss and the gradients and finally update the weights. To now use this graph, we have to initialize a TensorFlow `Session`. In other words, a TF `Session` is a class that enables us for running TF `Graphs`. In this tutorial, two types of codes for working with a `Session` are used. \n",
    "\n",
    "In the next cell the model will be trained for 6000 epochs."
   ]
  },
  {
   "cell_type": "code",
   "execution_count": 34,
   "metadata": {},
   "outputs": [
    {
     "name": "stdout",
     "output_type": "stream",
     "text": [
      "0 validation loss 0.022777619\n",
      "300 validation loss 0.0060909684\n",
      "600 validation loss 0.0054509244\n",
      "900 validation loss 0.0049122865\n",
      "1200 validation loss 0.0044070347\n",
      "1500 validation loss 0.004156935\n",
      "1800 validation loss 0.0039838594\n",
      "2100 validation loss 0.0038614485\n",
      "2400 validation loss 0.0037345865\n",
      "2700 validation loss 0.0036871003\n",
      "3000 validation loss 0.003574656\n",
      "3600 validation loss 0.0036598512\n",
      "3900 validation loss 0.0035182438\n",
      "4200 validation loss 0.0035090642\n",
      "4500 validation loss 0.0036834758\n",
      "4800 validation loss 0.0035531588\n",
      "5100 validation loss 0.0034715333\n",
      "5400 validation loss 0.0034539502\n",
      "5700 validation loss 0.0034344064\n"
     ]
    }
   ],
   "source": [
    "# set parameters for the training model\n",
    "\n",
    "BATCH_SIZE = 120\n",
    "\n",
    "n_iteration = train_data.shape[0]//BATCH_SIZE\n",
    "\n",
    "n_epochs = 6000 # for case of having 100 neurons in latent layer and 10000 neurons in other layers\n",
    "\n",
    "\"\"\" \n",
    "save variables that will be used for unseen data in evaluation\n",
    "__init__(\n",
    "    var_list=None,\n",
    "    reshape=False,\n",
    "    sharded=False,\n",
    "    max_to_keep=5,\n",
    "    keep_checkpoint_every_n_hours=10000.0,\n",
    "    name=None,\n",
    "    restore_sequentially=False,\n",
    "    saver_def=None,\n",
    "    builder=None,\n",
    "    defer_build=False,\n",
    "    allow_empty=False,\n",
    "    write_version=tf.train.SaverDef.V2,\n",
    "    pad_step_number=False,\n",
    "    save_relative_paths=False,\n",
    "    filename=None\n",
    ")\n",
    "\"\"\"\n",
    "saver = tf.train.Saver(max_to_keep=1)\n",
    "\n",
    "\"\"\" build a method to initialize all variables\"\"\"\n",
    "init = tf.global_variables_initializer()\n",
    "\n",
    "\"\"\" \n",
    "- run the model, use the session as a context manager which closes automatically\n",
    "- config=config, prevent Kernel restarting error\n",
    "\"\"\"\n",
    "with tf.Session(config=config) as sess:\n",
    "    \"\"\" all the method defined before, need sess.run() to excute them\"\"\"\n",
    "    sess.run(init)\n",
    "    \n",
    "    #\"\"\"restore already trained model and keep training\"\"\"\n",
    "    #saver.restore(sess,tf.train.latest_checkpoint('./'))\n",
    "    #graph = tf.get_default_graph()\n",
    "    \n",
    "    \"\"\" use as checking point to exit the epoch \"\"\"\n",
    "    loss_train = []\n",
    "    loss_validation = []\n",
    "    for epoch in range(n_epochs):\n",
    "        \"\"\"\n",
    "       - before grabs value of placeholder x, feed_dict feeds placeholder x with value \n",
    "        from train_data\n",
    "       - iterator.initializer, this means which the iterator is reinitializable\n",
    "        \"\"\"\n",
    "        sess.run(iterator.initializer,feed_dict={x:train_data,batch_size:BATCH_SIZE})\n",
    "\n",
    "        for iteration in range(n_iteration):\n",
    "            \"\"\" repeatedly run the train operation, updating the tensorflow variable \"\"\" \n",
    "            sess.run(train)\n",
    "            \n",
    "        loss_train.append(sess.run(loss))\n",
    "        \n",
    "        \"\"\" compute loss for validation data simultaneously to track the epoch with minimum loss\"\"\"\n",
    "        sess.run(iterator.initializer,feed_dict={x:validation_data,batch_size:1})\n",
    "      \n",
    "        loss_value = sess.run(loss)   \n",
    "        loss_validation.append(loss_value)\n",
    "        \n",
    "        if epoch % 300 == 0:\n",
    "            print(\"\\r{}\".format(epoch),\"validation loss\",loss_value)\n",
    "            \n",
    "        \"\"\"save models from last one epoches\"\"\" \n",
    "        save_path = saver.save(sess, \"./model-{}.ckpt\".format(epoch))        "
   ]
  },
  {
   "cell_type": "markdown",
   "metadata": {},
   "source": [
    "### 2.5 Validation of the model\n",
    "In earlier session, we calculated the loss of validation data and training data from all the epoch to find out after which epoch the network has the best parameters. When optimizing learning rate and number of epochs we want to make sure that both validation loss and training loss become stable at the end. A strong indicator for overfitting is a validation loss that starts to increase after some training. In that case we want to stop at the epoch, where the validation loss has it's minimum or increase the regularization of the network."
   ]
  },
  {
   "cell_type": "markdown",
   "metadata": {},
   "source": [
    "### 2.6 Evaluate the model \n",
    "In this part, the unseen images will be passed into the trained model. After training in this session is done, we restore the variables from the epoch with minimum loss which is from one the last epoch, and check how is the reconstruction result done by the autoencoder via using this $\\color{green}{\\text{outputs = dense_layer( ) method}}$. Here, we apply another way to use a TF `Session` which needs to be closed at the end."
   ]
  },
  {
   "cell_type": "code",
   "execution_count": 17,
   "metadata": {},
   "outputs": [
    {
     "name": "stdout",
     "output_type": "stream",
     "text": [
      "INFO:tensorflow:Restoring parameters from ./model-5999.ckpt\n"
     ]
    }
   ],
   "source": [
    "sess = tf.Session()\n",
    "\n",
    "sess.run(tf.global_variables_initializer())\n",
    "    \n",
    "sess.run(iterator.initializer,feed_dict={x:test_data,batch_size:1})\n",
    "\n",
    "#saver.restore(sess,\"./model-1499.ckpt\")\n",
    "\n",
    "# for case of having 100 neurons in latent layer and 10000 neurons in other layers\n",
    "saver.restore(sess,\"./model-5999.ckpt\")\n",
    "\n",
    "outputs_val = sess.run(outputs)\n",
    "\n",
    "sess.close()"
   ]
  },
  {
   "cell_type": "markdown",
   "metadata": {},
   "source": [
    "### 2.7 Analysis on compression ratio\n",
    "Data compression ratio is the ration between the original size and compressed size. As mentioned at beginning, the goal of this type of stacked autoencoder is to generate an approximated representation of the input by focusing on its complex and critical features. To take a closer look at the performance of this stacked autoencoder we will analyze the influence of the number of neurons in the latent representation layer on the quality of the reconstruction (by computing mean validation loss and visualizing the reconstructed input image). We will run the model with 784, 500, 300, 200 and 100 neurons in the latent layer for comparison. At the end, another example of having 100 neurons in latent layer and 10000 neurons in other layers is provided as an alternative choice for increase of complexity. "
   ]
  },
  {
   "cell_type": "code",
   "execution_count": 20,
   "metadata": {},
   "outputs": [],
   "source": [
    "def compression_analysis(compression_ratio):\n",
    "    \"\"\"\n",
    "    we build a function has compression_ratio as input, and output mean validation loss, \n",
    "    comparison on original input and reconstructed input image, \n",
    "    and the comparison on training loss and validation loss\n",
    "    \"\"\"\n",
    "    validation_score = print(\"mean validation loss\",np.mean(loss_validation))\n",
    "    \n",
    "    _, (ax1, ax2) = plt.subplots(1, 2)\n",
    "    ax1.imshow(test_data[0].reshape(28, 28), cmap=plt.cm.Greys);\n",
    "    ax2.imshow(outputs_val.reshape(28, 28), cmap=plt.cm.Greys);\n",
    "    \n",
    "    fig = plt.figure()\n",
    "    ax = fig.add_subplot(111)\n",
    "    ax.scatter(range(0,n_epochs),loss_validation,marker=\"s\",s=(72./fig.dpi)**2,c='b',label='validation loss')\n",
    "    ax.set_ylim([0,0.005]) # limits for y axis are different in these various cases\n",
    "    ax.scatter(range(0,n_epochs),loss_train,marker=\"s\",s=(72./fig.dpi)**2,c='r',label='train loss')\n",
    "    plt.legend()\n",
    "    plt.xlabel(\"Training steps\")\n",
    "    plt.ylabel(\"Loss\")\n",
    "    plt.show()\n",
    "    \n",
    "    return validation_score, _, (ax1, ax2), fig"
   ]
  },
  {
   "cell_type": "markdown",
   "metadata": {},
   "source": [
    "In case for having $\\color{green}{\\text{784}}$ neurons in latent layer, the compression ratio is 1.0 (actually no compression). As seen from below results, the mean validation loss is very small. The high number of neurons in latent layer increases the complexity of network which makes it possible for the network to simply learn an identity mapping. The reconstructed image looks identical to original input. "
   ]
  },
  {
   "cell_type": "code",
   "execution_count": 51,
   "metadata": {},
   "outputs": [
    {
     "name": "stdout",
     "output_type": "stream",
     "text": [
      "mean validation loss 0.0002700669\n"
     ]
    },
    {
     "data": {
      "image/png": "[encoded data removed]",
      "text/plain": [
       "<Figure size 432x288 with 2 Axes>"
      ]
     },
     "metadata": {},
     "output_type": "display_data"
    },
    {
     "data": {
      "image/png": "[encoded data removed]",
      "text/plain": [
       "<Figure size 432x288 with 1 Axes>"
      ]
     },
     "metadata": {},
     "output_type": "display_data"
    }
   ],
   "source": [
    "compression_ratio = test_data.shape[1]/size_hidden_2\n",
    "validation_score,_,(ax1, ax2),fig = compression_analysis(compression_ratio)"
   ]
  },
  {
   "cell_type": "markdown",
   "metadata": {},
   "source": [
    "In case for having $\\color{green}{\\text{500}}$ neurons in the latent layer, the compression ratio is 1.568. Except taking a bit longer time (larger than 1000 epochs, for validation loss to reach a stable decrease trend) it still gives a very good reconstruction of the input image. The validation loss is doubled compared to the case of having 784 neurons. Both of the roughly converged validation loss and training loss are above or around 0.00005 which is about five times more than last case."
   ]
  },
  {
   "cell_type": "code",
   "execution_count": 75,
   "metadata": {},
   "outputs": [
    {
     "name": "stdout",
     "output_type": "stream",
     "text": [
      "mean validation loss 0.00043257896\n"
     ]
    },
    {
     "data": {
      "image/png": "[encoded data removed]",
      "text/plain": [
       "<Figure size 432x288 with 2 Axes>"
      ]
     },
     "metadata": {},
     "output_type": "display_data"
    },
    {
     "data": {
      "image/png": "[encoded data removed]",
      "text/plain": [
       "<Figure size 432x288 with 1 Axes>"
      ]
     },
     "metadata": {},
     "output_type": "display_data"
    }
   ],
   "source": [
    "compression_ratio = test_data.shape[1]/size_hidden_2\n",
    "validation_score,_,(ax1, ax2),fig = compression_analysis(compression_ratio)"
   ]
  },
  {
   "cell_type": "markdown",
   "metadata": {},
   "source": [
    "In case for having $\\color{green}{\\text{300}}$ neurons in latent layer, the compression ratio is 2.261. The network seems to take shorter time, after 400 epochs,for training loss to get its stable decrease trend. But, looking at the validation loss around 200 epochs, there is sign of overfitting for the model. The complexity of network is not enough to learn critical features. The network tries to memorize the training data which is not meaningful for validation data. There is no overfitting in the case of having 500 neurons and 784 neurons in latent layer, since the network can do an identity mapping. The difference between training loss and validation loss, around 0.0004, gets larger compared to last example which is around 0.00008. The huge difference between training loss and validation can be one of the reasons for the overfitting. The visualized comparison between input and reconstructed image shows slight differences. In this case, a normalization or early stop should be applied. The mean validation loss is four times larger compared to last case. The minimum validation loss, 0.0013582223, is also being computed if an early stop is being an interest here."
   ]
  },
  {
   "cell_type": "code",
   "execution_count": 98,
   "metadata": {},
   "outputs": [
    {
     "name": "stdout",
     "output_type": "stream",
     "text": [
      "mean validation loss 0.0017411599\n"
     ]
    },
    {
     "data": {
      "image/png": "[encoded data removed]",
      "text/plain": [
       "<Figure size 432x288 with 2 Axes>"
      ]
     },
     "metadata": {},
     "output_type": "display_data"
    },
    {
     "data": {
      "image/png": "[encoded data removed]",
      "text/plain": [
       "<Figure size 432x288 with 1 Axes>"
      ]
     },
     "metadata": {},
     "output_type": "display_data"
    },
    {
     "name": "stdout",
     "output_type": "stream",
     "text": [
      "0.0013582223\n"
     ]
    }
   ],
   "source": [
    "compression_ratio = test_data.shape[1]/size_hidden_2\n",
    "validation_score,_,(ax1, ax2),fig = compression_analysis(compression_ratio)\n",
    "print(np.min(loss_validation))"
   ]
  },
  {
   "cell_type": "markdown",
   "metadata": {},
   "source": [
    "In case for having $\\color{green}{\\text{200}}$ neurons in latent layer,the compression ratio is 3.92. Here, except longer learning time and larger difference between training loss and validation loss, there is also obvious visual differences between the reconstructed image and input image. Besides, roughly after 200 epochs, there is sign of overfitting for the model, since validation loss starts increase. However after 1000 epochs, the validation loss decreases again. The difference between validation loss and training loss grows into 0.0013 roughly. Here, the mean validation loss is only two times larger compared to the case of having 300 neurons in latent layer. "
   ]
  },
  {
   "cell_type": "code",
   "execution_count": 118,
   "metadata": {},
   "outputs": [
    {
     "name": "stdout",
     "output_type": "stream",
     "text": [
      "mean validation loss 0.003928103\n"
     ]
    },
    {
     "data": {
      "image/png": "[encoded data removed]",
      "text/plain": [
       "<Figure size 432x288 with 2 Axes>"
      ]
     },
     "metadata": {},
     "output_type": "display_data"
    },
    {
     "data": {
      "image/png": "[encoded data removed]",
      "text/plain": [
       "<Figure size 432x288 with 1 Axes>"
      ]
     },
     "metadata": {},
     "output_type": "display_data"
    }
   ],
   "source": [
    "compression_ratio = test_data.shape[1]/size_hidden_2\n",
    "validation_score,_,(ax1, ax2),fig = compression_analysis(compression_ratio)"
   ]
  },
  {
   "cell_type": "markdown",
   "metadata": {},
   "source": [
    "In case for having $\\color{green}{\\text{100}}$ neurons in latent layer,the compression ratio is 7.84. Up to now, we used epoch of 1500. Based on comparison of training loss and validation loss, the network needs larger epochs to converge since both of training loss and validation tend to continue decrease,which testifies the complexity of network is not enough to learn critical features to represent the input image. The difference between training loss and validation loss gets very huge now. Overfitting also can be observed during epochs from 200 to 600."
   ]
  },
  {
   "cell_type": "code",
   "execution_count": 136,
   "metadata": {},
   "outputs": [
    {
     "name": "stdout",
     "output_type": "stream",
     "text": [
      "mean validation loss 0.006935501\n"
     ]
    },
    {
     "data": {
      "image/png": "[encoded data removed]",
      "text/plain": [
       "<Figure size 432x288 with 2 Axes>"
      ]
     },
     "metadata": {},
     "output_type": "display_data"
    },
    {
     "data": {
      "image/png": "[encoded data removed]",
      "text/plain": [
       "<Figure size 432x288 with 1 Axes>"
      ]
     },
     "metadata": {},
     "output_type": "display_data"
    }
   ],
   "source": [
    "compression_ratio = test_data.shape[1]/size_hidden_2\n",
    "validation_score, _,(ax1, ax2), fig = compression_analysis(compression_ratio)"
   ]
  },
  {
   "cell_type": "markdown",
   "metadata": {},
   "source": [
    "To have an $\\color{green}{\\text{alternative way}}$ to improve complexity of network, we increase the size of hidden layer 1 from 1000 to 10000. The epoch is also increased to 60000. The learning rate is increased from 0.000008 to 0.000012 for a faster convergence. Compared to the last case, both of training loss and validation loss are far below 0.006. If one looks close enough, the reconstructed image looks more close to input image compared to last case as well. Also, the mean validation loss is almost only 60% of last case. It means, by increasing neurons in other layers but latent layer, the network can increase its complexity to solve the task for training data better as well. It is quite clear that both of losses show a vibration in decreasing trend. This is due to an exponential moving average of the gradient and the squared gradient which are calculated by Adam optimizer. "
   ]
  },
  {
   "cell_type": "code",
   "execution_count": 37,
   "metadata": {},
   "outputs": [
    {
     "name": "stdout",
     "output_type": "stream",
     "text": [
      "mean validation loss 0.0040781773\n"
     ]
    },
    {
     "data": {
      "image/png": "[encoded data removed]",
      "text/plain": [
       "<Figure size 432x288 with 2 Axes>"
      ]
     },
     "metadata": {},
     "output_type": "display_data"
    },
    {
     "data": {
      "image/png": "[encoded data removed]",
      "text/plain": [
       "<Figure size 432x288 with 1 Axes>"
      ]
     },
     "metadata": {},
     "output_type": "display_data"
    }
   ],
   "source": [
    "compression_ratio = test_data.shape[1]/size_hidden_2\n",
    "validation_score, _,(ax1, ax2), fig = compression_analysis(compression_ratio)"
   ]
  },
  {
   "cell_type": "markdown",
   "metadata": {},
   "source": [
    "## Part 3: Discussion \n",
    "Autoencoder is a simple neural network which delivers an output in a same size of input. The main function of autoencoder is to compress image and decompress it by which representing in a way as close as to the original image. The given example above is stacked autoencoder. There are others types of autoencoder based on the applications, such as data denoising autoencoder and variational aotoencoder. "
   ]
  },
  {
   "cell_type": "markdown",
   "metadata": {},
   "source": [
    "Following code-cell removes `In[]` / `Out[]` prompts left to code cells."
   ]
  },
  {
   "cell_type": "code",
   "execution_count": 1,
   "metadata": {},
   "outputs": [
    {
     "data": {
      "text/html": [
       "<style>div.prompt {display:none}</style>\n"
      ],
      "text/plain": [
       "<IPython.core.display.HTML object>"
      ]
     },
     "metadata": {},
     "output_type": "display_data"
    }
   ],
   "source": [
    "%%HTML\n",
    "<style>div.prompt {display:none}</style>"
   ]
  },
  {
   "cell_type": "markdown",
   "metadata": {},
   "source": [
    "---\n",
    "\n",
    "<table>\n",
    "  <tr>\n",
    "    <td>Author:</td>\n",
    "    <td>Buerlike Alai</td>\n",
    "  </tr>\n",
    "  <tr>\n",
    "    <td>Last modified:</td>\n",
    "    <td>01 / 07 / 2019</td>\n",
    "  </tr>\n",
    "</table> "
   ]
  }
 ],
 "metadata": {
  "kernelspec": {
   "display_name": "Python 3",
   "language": "python",
   "name": "python3"
  },
  "language_info": {
   "codemirror_mode": {
    "name": "ipython",
    "version": 3
   },
   "file_extension": ".py",
   "mimetype": "text/x-python",
   "name": "python",
   "nbconvert_exporter": "python",
   "pygments_lexer": "ipython3",
   "version": "3.7.3"
  },
  "varInspector": {
   "cols": {
    "lenName": 16,
    "lenType": 16,
    "lenVar": 40
   },
   "kernels_config": {
    "python": {
     "delete_cmd_postfix": "",
     "delete_cmd_prefix": "del ",
     "library": "var_list.py",
     "varRefreshCmd": "print(var_dic_list())"
    },
    "r": {
     "delete_cmd_postfix": ") ",
     "delete_cmd_prefix": "rm(",
     "library": "var_list.r",
     "varRefreshCmd": "cat(var_dic_list()) "
    }
   },
   "types_to_exclude": [
    "module",
    "function",
    "builtin_function_or_method",
    "instance",
    "_Feature"
   ],
   "window_display": false
  }
 },
 "nbformat": 4,
 "nbformat_minor": 2
}
